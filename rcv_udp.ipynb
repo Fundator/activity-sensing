{
 "cells": [
  {
   "cell_type": "code",
   "execution_count": 16,
   "metadata": {},
   "outputs": [
    {
     "name": "stdout",
     "output_type": "stream",
     "text": [
      "Waiting for stream.\n",
      "Stream reset\n",
      "Starting stream in 3 seconds\n",
      "Stream finished.\n",
      "Waiting for stream.\n",
      "Stream reset\n",
      "Starting stream in 3 seconds\n",
      "Stream finished.\n",
      "Waiting for stream.\n",
      "Stream reset\n",
      "Starting stream in 3 seconds\n",
      "Stream finished.\n",
      "Waiting for stream.\n",
      "Stream reset\n",
      "Starting stream in 3 seconds\n",
      "Stream finished.\n",
      "Waiting for stream.\n",
      "Stream reset\n",
      "Starting stream in 3 seconds\n",
      "Stream finished.\n",
      "Waiting for stream.\n",
      "Stream reset\n",
      "Starting stream in 3 seconds\n",
      "Stream finished.\n",
      "Waiting for stream.\n",
      "Stream reset\n",
      "Starting stream in 3 seconds\n",
      "Stream finished.\n",
      "Waiting for stream.\n",
      "Stream reset\n",
      "Starting stream in 3 seconds\n",
      "Stream finished.\n",
      "Waiting for stream.\n",
      "Stream reset\n",
      "Starting stream in 3 seconds\n",
      "Stream finished.\n",
      "Waiting for stream.\n",
      "Stream reset\n",
      "Starting stream in 3 seconds\n",
      "Stream finished.\n",
      "Waiting for stream.\n",
      "Stream reset\n",
      "Starting stream in 3 seconds\n",
      "Stream finished.\n",
      "Waiting for stream.\n",
      "Stream reset\n",
      "Starting stream in 3 seconds\n",
      "Stream finished.\n",
      "Waiting for stream.\n",
      "Stream reset\n",
      "Starting stream in 3 seconds\n",
      "Stream finished.\n",
      "Waiting for stream.\n",
      "Closing connection.\n"
     ]
    },
    {
     "ename": "ConnectionClosed",
     "evalue": "",
     "output_type": "error",
     "traceback": [
      "\u001b[0;31m---------------------------------------------------------------------------\u001b[0m",
      "\u001b[0;31mKeyboardInterrupt\u001b[0m                         Traceback (most recent call last)",
      "\u001b[0;32m<ipython-input-16-a4801e907d71>\u001b[0m in \u001b[0;36m<module>\u001b[0;34m()\u001b[0m\n\u001b[1;32m     51\u001b[0m             \u001b[0mreset_time\u001b[0m \u001b[0;34m=\u001b[0m \u001b[0mtime\u001b[0m\u001b[0;34m.\u001b[0m\u001b[0mtime\u001b[0m\u001b[0;34m(\u001b[0m\u001b[0;34m)\u001b[0m\u001b[0;34m\u001b[0m\u001b[0m\n\u001b[0;32m---> 52\u001b[0;31m             \u001b[0mdata\u001b[0m\u001b[0;34m,\u001b[0m \u001b[0maddr\u001b[0m \u001b[0;34m=\u001b[0m \u001b[0msock\u001b[0m\u001b[0;34m.\u001b[0m\u001b[0mrecvfrom\u001b[0m\u001b[0;34m(\u001b[0m\u001b[0;36m256\u001b[0m\u001b[0;34m)\u001b[0m\u001b[0;34m\u001b[0m\u001b[0m\n\u001b[0m\u001b[1;32m     53\u001b[0m             \u001b[0;32mif\u001b[0m \u001b[0mtime\u001b[0m\u001b[0;34m.\u001b[0m\u001b[0mtime\u001b[0m\u001b[0;34m(\u001b[0m\u001b[0;34m)\u001b[0m\u001b[0;34m>\u001b[0m\u001b[0mreset_time\u001b[0m\u001b[0;34m+\u001b[0m\u001b[0;36m3\u001b[0m\u001b[0;34m:\u001b[0m\u001b[0;34m\u001b[0m\u001b[0m\n",
      "\u001b[0;31mKeyboardInterrupt\u001b[0m: ",
      "\nDuring handling of the above exception, another exception occurred:\n",
      "\u001b[0;31mConnectionClosed\u001b[0m                          Traceback (most recent call last)",
      "\u001b[0;32m<ipython-input-16-a4801e907d71>\u001b[0m in \u001b[0;36m<module>\u001b[0;34m()\u001b[0m\n\u001b[1;32m     69\u001b[0m     \u001b[0mprint\u001b[0m\u001b[0;34m(\u001b[0m\u001b[0;34m\"Closing connection.\"\u001b[0m\u001b[0;34m)\u001b[0m\u001b[0;34m\u001b[0m\u001b[0m\n\u001b[1;32m     70\u001b[0m     \u001b[0msock\u001b[0m\u001b[0;34m.\u001b[0m\u001b[0mclose\u001b[0m\u001b[0;34m(\u001b[0m\u001b[0;34m)\u001b[0m\u001b[0;34m\u001b[0m\u001b[0m\n\u001b[0;32m---> 71\u001b[0;31m     \u001b[0mconnection\u001b[0m\u001b[0;34m.\u001b[0m\u001b[0mclose\u001b[0m\u001b[0;34m(\u001b[0m\u001b[0;34m)\u001b[0m\u001b[0;34m\u001b[0m\u001b[0m\n\u001b[0m",
      "\u001b[0;32m~/anaconda3/lib/python3.6/site-packages/pika/adapters/blocking_connection.py\u001b[0m in \u001b[0;36mclose\u001b[0;34m(self, reply_code, reply_text)\u001b[0m\n\u001b[1;32m    728\u001b[0m         \u001b[0mself\u001b[0m\u001b[0;34m.\u001b[0m\u001b[0m_impl\u001b[0m\u001b[0;34m.\u001b[0m\u001b[0mclose\u001b[0m\u001b[0;34m(\u001b[0m\u001b[0mreply_code\u001b[0m\u001b[0;34m,\u001b[0m \u001b[0mreply_text\u001b[0m\u001b[0;34m)\u001b[0m\u001b[0;34m\u001b[0m\u001b[0m\n\u001b[1;32m    729\u001b[0m \u001b[0;34m\u001b[0m\u001b[0m\n\u001b[0;32m--> 730\u001b[0;31m         \u001b[0mself\u001b[0m\u001b[0;34m.\u001b[0m\u001b[0m_flush_output\u001b[0m\u001b[0;34m(\u001b[0m\u001b[0mself\u001b[0m\u001b[0;34m.\u001b[0m\u001b[0m_closed_result\u001b[0m\u001b[0;34m.\u001b[0m\u001b[0mis_ready\u001b[0m\u001b[0;34m)\u001b[0m\u001b[0;34m\u001b[0m\u001b[0m\n\u001b[0m\u001b[1;32m    731\u001b[0m \u001b[0;34m\u001b[0m\u001b[0m\n\u001b[1;32m    732\u001b[0m     \u001b[0;32mdef\u001b[0m \u001b[0mprocess_data_events\u001b[0m\u001b[0;34m(\u001b[0m\u001b[0mself\u001b[0m\u001b[0;34m,\u001b[0m \u001b[0mtime_limit\u001b[0m\u001b[0;34m=\u001b[0m\u001b[0;36m0\u001b[0m\u001b[0;34m)\u001b[0m\u001b[0;34m:\u001b[0m\u001b[0;34m\u001b[0m\u001b[0m\n",
      "\u001b[0;32m~/anaconda3/lib/python3.6/site-packages/pika/adapters/blocking_connection.py\u001b[0m in \u001b[0;36m_flush_output\u001b[0;34m(self, *waiters)\u001b[0m\n\u001b[1;32m    441\u001b[0m         \"\"\"\n\u001b[1;32m    442\u001b[0m         \u001b[0;32mif\u001b[0m \u001b[0mself\u001b[0m\u001b[0;34m.\u001b[0m\u001b[0mis_closed\u001b[0m\u001b[0;34m:\u001b[0m\u001b[0;34m\u001b[0m\u001b[0m\n\u001b[0;32m--> 443\u001b[0;31m             \u001b[0;32mraise\u001b[0m \u001b[0mexceptions\u001b[0m\u001b[0;34m.\u001b[0m\u001b[0mConnectionClosed\u001b[0m\u001b[0;34m(\u001b[0m\u001b[0;34m)\u001b[0m\u001b[0;34m\u001b[0m\u001b[0m\n\u001b[0m\u001b[1;32m    444\u001b[0m \u001b[0;34m\u001b[0m\u001b[0m\n\u001b[1;32m    445\u001b[0m         \u001b[0;31m# Conditions for terminating the processing loop:\u001b[0m\u001b[0;34m\u001b[0m\u001b[0;34m\u001b[0m\u001b[0m\n",
      "\u001b[0;31mConnectionClosed\u001b[0m: "
     ]
    }
   ],
   "source": [
    "import socket\n",
    "import numpy as np\n",
    "import pandas as pd\n",
    "import time\n",
    "import pika\n",
    "import json\n",
    "\n",
    "connection = pika.BlockingConnection(pika.ConnectionParameters(host='localhost'))\n",
    "channel = connection.channel()\n",
    "channel.queue_declare(queue='hello')\n",
    "\n",
    "UDP_IP = \"192.168.1.14\"\n",
    "UDP_PORT = 5555\n",
    "CHUNKSIZE=1500\n",
    "sock = socket.socket(socket.AF_INET, # Internet\n",
    "                    socket.SOCK_DGRAM) # UDP\n",
    "\n",
    "sock.bind((UDP_IP, UDP_PORT))\n",
    "\n",
    "def divide_chunks(l, n):    \n",
    "    # looping til length l\n",
    "    for i in range(0, len(l), n):\n",
    "        yield l[i:i + n] #How many elements each list should have\n",
    "\n",
    "def chunk_to_df(total, msgpack=False):\n",
    "    received = \"\".join(total).split(\",\")[1:]\n",
    "    chunks = list(divide_chunks(received, 4))\n",
    "    measurements = np.vstack(chunks)\n",
    "    df = pd.DataFrame(measurements, columns=[\"sensor\", \"x\", \"y\", \"z\"])\n",
    "    if msgpack:\n",
    "        df = df.to_msgpack()\n",
    "    return df\n",
    "\n",
    "def prep_df(df):\n",
    "    for c in df.columns:\n",
    "        df[c] = pd.to_numeric(df[c], errors=\"coerce\")\n",
    "    if df.shape[0]>CHUNKSIZE:\n",
    "        df = df.iloc[:CHUNKSIZE]\n",
    "    else:\n",
    "        df = df.append(pd.DataFrame(index=range(CHUNKSIZE-len(df)), columns=df.columns), ignore_index=True)\n",
    "        df.fillna(method=\"pad\", inplace=True)\n",
    "    return df.values\n",
    "\n",
    "chunks = []\n",
    "try:\n",
    "    while True:\n",
    "        reset = False\n",
    "        print(\"Waiting for new stream.\")\n",
    "        while not reset:\n",
    "            total = []\n",
    "            reset_time = time.time()\n",
    "            data, addr = sock.recvfrom(256) \n",
    "            if time.time()>reset_time+3:\n",
    "                print(\"Stream reset\")\n",
    "                reset = True\n",
    "        print(\"Starting stream in 3 seconds\")\n",
    "        time.sleep(3)\n",
    "        print(\"Starting stream...\")\n",
    "        start = time.time()\n",
    "        while time.time() < start+10:\n",
    "            data, addr = sock.recvfrom(256) \n",
    "            total.append(data.decode(\"UTF-8\"))\n",
    "        print(\"Stream finished.\")\n",
    "        df = chunk_to_df(total, False)\n",
    "        chunk = prep_df(df)\n",
    "        chunks.append(chunk)\n",
    "        #channel.basic_publish(exchange='', routing_key='hello', body=df)  \n",
    "\n",
    "except KeyboardInterrupt:\n",
    "    print(\"Closing connection.\")\n",
    "    sock.close()\n",
    "    connection.close()"
   ]
  },
  {
   "cell_type": "code",
   "execution_count": 17,
   "metadata": {},
   "outputs": [
    {
     "data": {
      "text/plain": [
       "13"
      ]
     },
     "execution_count": 17,
     "metadata": {},
     "output_type": "execute_result"
    }
   ],
   "source": [
    "len(chunks)"
   ]
  },
  {
   "cell_type": "code",
   "execution_count": 18,
   "metadata": {},
   "outputs": [
    {
     "name": "stdout",
     "output_type": "stream",
     "text": [
      "(1500, 4)\n",
      "(1500, 4)\n",
      "(1500, 4)\n",
      "(1500, 4)\n",
      "(1500, 4)\n",
      "(1500, 4)\n",
      "(1500, 4)\n",
      "(1500, 4)\n",
      "(1500, 4)\n",
      "(1500, 4)\n",
      "(1500, 4)\n",
      "(1500, 4)\n",
      "(1500, 4)\n"
     ]
    }
   ],
   "source": [
    "for c in chunks:\n",
    "    print(c.shape)"
   ]
  },
  {
   "cell_type": "code",
   "execution_count": 22,
   "metadata": {},
   "outputs": [],
   "source": [
    "train = np.stack(chunks)"
   ]
  },
  {
   "cell_type": "code",
   "execution_count": 26,
   "metadata": {},
   "outputs": [],
   "source": [
    "np.save(open(\"../data/train_1.npy\", \"wb\"), train)"
   ]
  },
  {
   "cell_type": "code",
   "execution_count": 21,
   "metadata": {},
   "outputs": [
    {
     "data": {
      "text/plain": [
       "<matplotlib.axes._subplots.AxesSubplot at 0x7f3e43a41cf8>"
      ]
     },
     "execution_count": 21,
     "metadata": {},
     "output_type": "execute_result"
    },
    {
     "data": {
      "image/png": "[encoded data removed]",
      "text/plain": [
       "<Figure size 432x288 with 1 Axes>"
      ]
     },
     "metadata": {},
     "output_type": "display_data"
    }
   ],
   "source": [
    "%matplotlib inline\n",
    "pd.DataFrame(chunks[6], columns=df.columns).y.plot()"
   ]
  },
  {
   "cell_type": "code",
   "execution_count": null,
   "metadata": {
    "collapsed": true
   },
   "outputs": [],
   "source": []
  }
 ],
 "metadata": {
  "kernelspec": {
   "display_name": "Python 3",
   "language": "python",
   "name": "python3"
  },
  "language_info": {
   "codemirror_mode": {
    "name": "ipython",
    "version": 3
   },
   "file_extension": ".py",
   "mimetype": "text/x-python",
   "name": "python",
   "nbconvert_exporter": "python",
   "pygments_lexer": "ipython3",
   "version": "3.6.3"
  }
 },
 "nbformat": 4,
 "nbformat_minor": 2
}
