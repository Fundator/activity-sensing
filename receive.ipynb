{
 "cells": [
  {
   "cell_type": "code",
   "execution_count": null,
   "metadata": {
    "scrolled": true
   },
   "outputs": [
    {
     "name": "stdout",
     "output_type": "stream",
     "text": [
      " [*] Waiting for messages. To exit press CTRL+C\n"
     ]
    }
   ],
   "source": [
    "import pika\n",
    "import pandas as pd\n",
    "import redis\n",
    "from collections import defaultdict\n",
    "r = redis.Redis(host='localhost', port=6379, db=0)\n",
    "\n",
    "connection = pika.BlockingConnection(pika.ConnectionParameters(host='localhost'))\n",
    "channel = connection.channel()\n",
    "\n",
    "\n",
    "channel.queue_declare(queue='hello')\n",
    "\n",
    "received = defaultdict(bool)\n",
    "first = True\n",
    "min_len = 1e9\n",
    "dfs = []\n",
    "\n",
    "def callback(ch, method, properties, body):\n",
    "    #print(\" [x] Received msg\")\n",
    "    df = pd.read_msgpack(body)\n",
    "    num_rows = []\n",
    "    for n, g in df.groupby(\"sensor\"):\n",
    "        sensor = 'sensor'+str(n)\n",
    "        r.set(sensor,g.to_msgpack())\n",
    "        if r.get(sensor+'_ml') is not None:\n",
    "            old = pd.read_msgpack(r.get(sensor+'_ml'))\n",
    "            new = old.append(g, ignore_index=True)\n",
    "            #print(new.shape)\n",
    "            if len(new)>45:\n",
    "                new = new.iloc[-45:]\n",
    "            r.set(sensor+'_ml',new.to_msgpack())\n",
    "        else:\n",
    "            r.set(sensor+'_ml',g.to_msgpack())\n",
    "\n",
    "channel.basic_consume(callback,\n",
    "                      queue='hello',\n",
    "                      no_ack=True)\n",
    "\n",
    "try:\n",
    "    print(' [*] Waiting for messages. To exit press CTRL+C')\n",
    "    channel.start_consuming()\n",
    "except KeyboardInterrupt:\n",
    "    connection.close()"
   ]
  },
  {
   "cell_type": "code",
   "execution_count": null,
   "metadata": {},
   "outputs": [],
   "source": []
  }
 ],
 "metadata": {
  "kernelspec": {
   "display_name": "Python 3",
   "language": "python",
   "name": "python3"
  },
  "language_info": {
   "codemirror_mode": {
    "name": "ipython",
    "version": 3
   },
   "file_extension": ".py",
   "mimetype": "text/x-python",
   "name": "python",
   "nbconvert_exporter": "python",
   "pygments_lexer": "ipython3",
   "version": "3.6.5"
  }
 },
 "nbformat": 4,
 "nbformat_minor": 2
}
