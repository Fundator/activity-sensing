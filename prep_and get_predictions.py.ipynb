{
 "cells": [
  {
   "cell_type": "code",
   "execution_count": 81,
   "metadata": {},
   "outputs": [],
   "source": [
    "import pandas as pd\n",
    "import redis\n",
    "import numpy as np\n",
    "from sklearn.preprocessing import StandardScaler\n",
    "import pickle\n",
    "import requests\n",
    "import json\n",
    "import time"
   ]
  },
  {
   "cell_type": "code",
   "execution_count": null,
   "metadata": {},
   "outputs": [],
   "source": [
    "KERAS_REST_API_URL = \"http://40.113.111.0:5000/predict\"\n",
    "r = redis.Redis(host='localhost', port=6379, db=0)\n",
    "sensordict = {3:\"acc_\", 4:\"gyro_\", 5:\"mag_\"}\n",
    "sc = pickle.load(open(\"data/sc.pkl\", \"rb\"))"
   ]
  },
  {
   "cell_type": "code",
   "execution_count": 70,
   "metadata": {},
   "outputs": [],
   "source": [
    "def get_df():\n",
    "    dfs = []\n",
    "    for n in [3,4,5]:\n",
    "        df = pd.read_msgpack(r.get(\"sensor\"+str(n)+\"_ml\"))\n",
    "        dfs.append(df.iloc[:,1:])\n",
    "    mldf = pd.concat(dfs, axis=1, ignore_index=True)\n",
    "    mldf.columns = [sensordict[n]+m for n in [3,4,5] for m in [\"x\", \"y\",\"z\"]]\n",
    "    mldf.drop(\"mag_z\", axis=1, inplace=True)\n",
    "    df = pd.DataFrame(sc.transform(mldf.values))\n",
    "    return df"
   ]
  },
  {
   "cell_type": "code",
   "execution_count": 93,
   "metadata": {},
   "outputs": [
    {
     "name": "stdout",
     "output_type": "stream",
     "text": [
      "got response in 0.064208984375\n",
      "{'squat_prob': '0.00012144653', 'success': True}\n",
      "0.00012144653\n",
      "got response in 0.05453753471374512\n",
      "{'squat_prob': '0.00014244884', 'success': True}\n",
      "0.00014244884\n",
      "got response in 0.05614733695983887\n",
      "{'squat_prob': '0.00012074425', 'success': True}\n",
      "0.00012074425\n",
      "got response in 0.052623748779296875\n",
      "{'squat_prob': '0.0013087752', 'success': True}\n",
      "0.0013087752\n",
      "got response in 0.05756402015686035\n",
      "{'squat_prob': '0.07437233', 'success': True}\n",
      "0.07437233\n",
      "got response in 0.05565619468688965\n",
      "{'squat_prob': '0.012498395', 'success': True}\n",
      "0.012498395\n",
      "got response in 0.05972409248352051\n",
      "{'squat_prob': '0.98699594', 'success': True}\n",
      "0.98699594\n",
      "got response in 0.059061288833618164\n",
      "{'squat_prob': '0.0023879043', 'success': True}\n",
      "0.0023879043\n",
      "got response in 0.05185818672180176\n",
      "{'squat_prob': '0.9807804', 'success': True}\n",
      "0.9807804\n",
      "got response in 0.05289459228515625\n",
      "{'squat_prob': '0.0026858451', 'success': True}\n",
      "0.0026858451\n",
      "got response in 0.056166648864746094\n",
      "{'squat_prob': '0.99958736', 'success': True}\n",
      "0.99958736\n",
      "got response in 0.053458452224731445\n",
      "{'squat_prob': '0.000108268', 'success': True}\n",
      "0.000108268\n",
      "got response in 0.05942106246948242\n",
      "{'squat_prob': '0.9361055', 'success': True}\n",
      "0.9361055\n",
      "got response in 0.05568957328796387\n",
      "{'squat_prob': '0.5480608', 'success': True}\n",
      "0.5480608\n",
      "got response in 0.05135774612426758\n",
      "{'squat_prob': '0.07221957', 'success': True}\n",
      "0.07221957\n",
      "got response in 0.05426359176635742\n",
      "{'squat_prob': '0.8846083', 'success': True}\n",
      "0.8846083\n",
      "got response in 0.056290626525878906\n",
      "{'squat_prob': '0.026047502', 'success': True}\n",
      "0.026047502\n",
      "got response in 0.05257296562194824\n",
      "{'squat_prob': '0.025323441', 'success': True}\n",
      "0.025323441\n"
     ]
    },
    {
     "ename": "KeyboardInterrupt",
     "evalue": "",
     "output_type": "error",
     "traceback": [
      "\u001b[0;31m---------------------------------------------------------------------------\u001b[0m",
      "\u001b[0;31mKeyboardInterrupt\u001b[0m                         Traceback (most recent call last)",
      "\u001b[0;32m<ipython-input-93-f3b71d64ab0c>\u001b[0m in \u001b[0;36m<module>\u001b[0;34m()\u001b[0m\n\u001b[1;32m     18\u001b[0m     \u001b[0;32melse\u001b[0m\u001b[0;34m:\u001b[0m\u001b[0;34m\u001b[0m\u001b[0m\n\u001b[1;32m     19\u001b[0m         \u001b[0mprint\u001b[0m\u001b[0;34m(\u001b[0m\u001b[0;34m\"Request failed\"\u001b[0m\u001b[0;34m)\u001b[0m\u001b[0;34m\u001b[0m\u001b[0m\n\u001b[0;32m---> 20\u001b[0;31m     \u001b[0mtime\u001b[0m\u001b[0;34m.\u001b[0m\u001b[0msleep\u001b[0m\u001b[0;34m(\u001b[0m\u001b[0;36m3\u001b[0m\u001b[0;34m)\u001b[0m\u001b[0;34m\u001b[0m\u001b[0m\n\u001b[0m",
      "\u001b[0;31mKeyboardInterrupt\u001b[0m: "
     ]
    }
   ],
   "source": [
    "while True:\n",
    "    start = time.time()\n",
    "    try:\n",
    "        x = get_df()\n",
    "    except Exception as e:\n",
    "        print(e)\n",
    "        continue\n",
    "    payload = {\"input\": x.to_msgpack()}\n",
    "    # submit the request\n",
    "    resp = requests.post(KERAS_REST_API_URL, files=payload).json()\n",
    "    print(\"got response in \"+str(time.time()-start))\n",
    "    print(resp)\n",
    "    # ensure the request was sucessful\n",
    "    if resp[\"success\"]:\n",
    "        print(resp[\"squat_prob\"])\n",
    "        r.set(\"squat_prob\", resp[\"squat_prob\"])\n",
    "    # otherwise, the request failed\n",
    "    else:\n",
    "        print(\"Request failed\")\n",
    "    time.sleep(3)"
   ]
  },
  {
   "cell_type": "code",
   "execution_count": 92,
   "metadata": {},
   "outputs": [
    {
     "data": {
      "text/plain": [
       "True"
      ]
     },
     "execution_count": 92,
     "metadata": {},
     "output_type": "execute_result"
    }
   ],
   "source": [
    "r.set(\"squat_prob\", 0.00013)"
   ]
  },
  {
   "cell_type": "code",
   "execution_count": null,
   "metadata": {},
   "outputs": [],
   "source": []
  }
 ],
 "metadata": {
  "kernelspec": {
   "display_name": "Python 3",
   "language": "python",
   "name": "python3"
  },
  "language_info": {
   "codemirror_mode": {
    "name": "ipython",
    "version": 3
   },
   "file_extension": ".py",
   "mimetype": "text/x-python",
   "name": "python",
   "nbconvert_exporter": "python",
   "pygments_lexer": "ipython3",
   "version": "3.6.5"
  }
 },
 "nbformat": 4,
 "nbformat_minor": 2
}
