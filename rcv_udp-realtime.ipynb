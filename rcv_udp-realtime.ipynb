{
 "cells": [
  {
   "cell_type": "code",
   "execution_count": 26,
   "metadata": {},
   "outputs": [
    {
     "name": "stdout",
     "output_type": "stream",
     "text": [
      "Receiving stream...\n"
     ]
    },
    {
     "ename": "KeyboardInterrupt",
     "evalue": "",
     "output_type": "error",
     "traceback": [
      "\u001b[0;31m---------------------------------------------------------------------------\u001b[0m",
      "\u001b[0;31mKeyboardInterrupt\u001b[0m                         Traceback (most recent call last)",
      "\u001b[0;32m<ipython-input-26-de2f65b90882>\u001b[0m in \u001b[0;36m<module>\u001b[0;34m()\u001b[0m\n\u001b[1;32m     55\u001b[0m     \u001b[0mprint\u001b[0m\u001b[0;34m(\u001b[0m\u001b[0;34m\"Receiving stream...\"\u001b[0m\u001b[0;34m)\u001b[0m\u001b[0;34m\u001b[0m\u001b[0m\n\u001b[1;32m     56\u001b[0m     \u001b[0;32mwhile\u001b[0m \u001b[0;32mTrue\u001b[0m\u001b[0;34m:\u001b[0m\u001b[0;34m\u001b[0m\u001b[0m\n\u001b[0;32m---> 57\u001b[0;31m         \u001b[0mdata\u001b[0m\u001b[0;34m,\u001b[0m \u001b[0maddr\u001b[0m \u001b[0;34m=\u001b[0m \u001b[0msock\u001b[0m\u001b[0;34m.\u001b[0m\u001b[0mrecvfrom\u001b[0m\u001b[0;34m(\u001b[0m\u001b[0;36m512\u001b[0m\u001b[0;34m)\u001b[0m\u001b[0;34m\u001b[0m\u001b[0m\n\u001b[0m\u001b[1;32m     58\u001b[0m         \u001b[0;31m#print(data.decode(\"UTF-8\"))\u001b[0m\u001b[0;34m\u001b[0m\u001b[0;34m\u001b[0m\u001b[0m\n\u001b[1;32m     59\u001b[0m         \u001b[0mdf\u001b[0m \u001b[0;34m=\u001b[0m \u001b[0mchunk_to_df\u001b[0m\u001b[0;34m(\u001b[0m\u001b[0mdata\u001b[0m\u001b[0;34m.\u001b[0m\u001b[0mdecode\u001b[0m\u001b[0;34m(\u001b[0m\u001b[0;34m\"UTF-8\"\u001b[0m\u001b[0;34m)\u001b[0m\u001b[0;34m)\u001b[0m\u001b[0;34m\u001b[0m\u001b[0m\n",
      "\u001b[0;31mKeyboardInterrupt\u001b[0m: "
     ]
    }
   ],
   "source": [
    "import socket\n",
    "import numpy as np\n",
    "import pandas as pd\n",
    "import time\n",
    "import pika\n",
    "import json\n",
    "\n",
    "credentials = pika.PlainCredentials('thomas', 'Test2011')\n",
    "parameters = pika.ConnectionParameters(credentials=credentials, host='40.127.197.251')\n",
    "connection = pika.BlockingConnection(parameters)\n",
    "\n",
    "channel = connection.channel()\n",
    "channel.queue_declare(queue='hello')\n",
    "\n",
    "UDP_IP = \"192.168.1.14\"\n",
    "UDP_PORT = 5555\n",
    "CHUNKSIZE=1500\n",
    "sock = socket.socket(socket.AF_INET, # Internet\n",
    "                    socket.SOCK_DGRAM) # UDP\n",
    "\n",
    "sock.bind((UDP_IP, UDP_PORT))\n",
    "\n",
    "def divide_chunks(l, n):    \n",
    "    # looping til length l\n",
    "    for i in range(0, len(l), n):\n",
    "        yield l[i:i + n] #How many elements each list should have\n",
    "\n",
    "def chunk_to_df(buffer):\n",
    "    received = \"\".join(buffer).split(\",\")[1:]\n",
    "    chunks = list(divide_chunks(received, 4))\n",
    "    measurements = np.vstack(chunks)\n",
    "    df = pd.DataFrame(measurements, columns=[\"sensor\", \"x\", \"y\", \"z\"])\n",
    "    return df\n",
    "\n",
    "def prep_df(df, msgpack=True):\n",
    "    for c in df.columns:\n",
    "        if c==\"sensor\":\n",
    "            df[c] = pd.to_numeric(df[c], errors=\"coerce\", downcast=\"unsigned\")\n",
    "        else:\n",
    "            df[c] = pd.to_numeric(df[c], errors=\"coerce\", downcast=\"float\")\n",
    "    #df[\"sensor\"] = df[\"sensor\"].astype(np.int8)\n",
    "    if df.shape[0]>CHUNKSIZE:\n",
    "        df = df.iloc[:CHUNKSIZE]\n",
    "    #else:\n",
    "    #    df = df.append(pd.DataFrame(index=range(CHUNKSIZE-len(df)), columns=df.columns), ignore_index=True)\n",
    "    #    df.fillna(method=\"pad\", inplace=True)\n",
    "    if msgpack:\n",
    "        df = df.to_msgpack()\n",
    "        return df\n",
    "    else:\n",
    "        return df\n",
    "\n",
    "chunks = []\n",
    "try:\n",
    "    print(\"Receiving stream...\")\n",
    "    while True:\n",
    "        data, addr = sock.recvfrom(512) \n",
    "        #print(data.decode(\"UTF-8\"))\n",
    "        df = chunk_to_df(data.decode(\"UTF-8\"))\n",
    "        chunk = prep_df(df, True)\n",
    "        #print(chunk.shape)\n",
    "        #print(chunk.head())\n",
    "        channel.basic_publish(exchange='', routing_key='hello', body=chunk) \n",
    "        #print(\"Stream ended.\")\n",
    "\n",
    "except Exception:\n",
    "    print(\"Closing connection.\")\n",
    "    sock.close()\n",
    "    connection.close()"
   ]
  },
  {
   "cell_type": "code",
   "execution_count": null,
   "metadata": {
    "collapsed": true
   },
   "outputs": [],
   "source": []
  }
 ],
 "metadata": {
  "kernelspec": {
   "display_name": "Python 3",
   "language": "python",
   "name": "python3"
  },
  "language_info": {
   "codemirror_mode": {
    "name": "ipython",
    "version": 3
   },
   "file_extension": ".py",
   "mimetype": "text/x-python",
   "name": "python",
   "nbconvert_exporter": "python",
   "pygments_lexer": "ipython3",
   "version": "3.6.3"
  }
 },
 "nbformat": 4,
 "nbformat_minor": 2
}
